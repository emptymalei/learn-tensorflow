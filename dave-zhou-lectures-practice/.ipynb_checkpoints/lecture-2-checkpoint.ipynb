{
 "cells": [
  {
   "cell_type": "code",
   "execution_count": 38,
   "metadata": {
    "collapsed": false,
    "deletable": true,
    "editable": true
   },
   "outputs": [
    {
     "name": "stdout",
     "output_type": "stream",
     "text": [
      "Extracting MNIST_data/train-images-idx3-ubyte.gz\n",
      "Extracting MNIST_data/train-labels-idx1-ubyte.gz\n",
      "Extracting MNIST_data/t10k-images-idx3-ubyte.gz\n",
      "Extracting MNIST_data/t10k-labels-idx1-ubyte.gz\n"
     ]
    }
   ],
   "source": [
    "from tensorflow.examples.tutorials.mnist import input_data\n",
    "mnist = input_data.read_data_sets(\"MNIST_data/\", one_hot=True)"
   ]
  },
  {
   "cell_type": "code",
   "execution_count": 39,
   "metadata": {
    "collapsed": true,
    "deletable": true,
    "editable": true
   },
   "outputs": [],
   "source": [
    "import tensorflow as tf"
   ]
  },
  {
   "cell_type": "code",
   "execution_count": 40,
   "metadata": {
    "collapsed": true
   },
   "outputs": [],
   "source": [
    "x = tf.placeholder(tf.float32, [None, 784])"
   ]
  },
  {
   "cell_type": "code",
   "execution_count": 41,
   "metadata": {
    "collapsed": true
   },
   "outputs": [],
   "source": [
    "W = tf.Variable(tf.zeros([784, 10]))\n",
    "b = tf.Variable(tf.zeros([10]))"
   ]
  },
  {
   "cell_type": "code",
   "execution_count": 42,
   "metadata": {
    "collapsed": true
   },
   "outputs": [],
   "source": [
    "y = tf.nn.softmax(tf.matmul(x, W) + b)"
   ]
  },
  {
   "cell_type": "code",
   "execution_count": 43,
   "metadata": {
    "collapsed": false
   },
   "outputs": [
    {
     "name": "stdout",
     "output_type": "stream",
     "text": [
      "Tensor(\"Softmax_3:0\", shape=(?, 10), dtype=float32)\n"
     ]
    }
   ],
   "source": [
    "print y"
   ]
  },
  {
   "cell_type": "code",
   "execution_count": 44,
   "metadata": {
    "collapsed": true
   },
   "outputs": [],
   "source": [
    "y_ = tf.placeholder(tf.float32, [None, 10])"
   ]
  },
  {
   "cell_type": "code",
   "execution_count": 45,
   "metadata": {
    "collapsed": false
   },
   "outputs": [],
   "source": [
    "cross_entropy = tf.reduce_mean(-tf.reduce_sum(y_ * tf.log(y), reduction_indices=[1]))"
   ]
  },
  {
   "cell_type": "code",
   "execution_count": 46,
   "metadata": {
    "collapsed": true
   },
   "outputs": [],
   "source": [
    "train_step = tf.train.GradientDescentOptimizer(0.5).minimize(cross_entropy)"
   ]
  },
  {
   "cell_type": "code",
   "execution_count": 47,
   "metadata": {
    "collapsed": true
   },
   "outputs": [],
   "source": [
    "sess = tf.InteractiveSession()"
   ]
  },
  {
   "cell_type": "code",
   "execution_count": 48,
   "metadata": {
    "collapsed": true
   },
   "outputs": [],
   "source": [
    "tf.global_variables_initializer().run()"
   ]
  },
  {
   "cell_type": "code",
   "execution_count": 52,
   "metadata": {
    "collapsed": false
   },
   "outputs": [
    {
     "name": "stdout",
     "output_type": "stream",
     "text": [
      "0.8997\n",
      "0.9014\n",
      "0.9054\n",
      "0.9026\n",
      "0.9049\n",
      "0.9037\n",
      "0.9005\n",
      "0.9019\n",
      "0.9049\n",
      "0.8941\n",
      "0.8981\n",
      "0.9023\n",
      "0.8985\n",
      "0.9055\n",
      "0.9073\n",
      "0.9001\n",
      "0.9063\n",
      "0.905\n",
      "0.9053\n",
      "0.901\n",
      "0.9021\n",
      "0.9042\n",
      "0.9013\n",
      "0.9061\n",
      "0.8981\n",
      "0.9094\n",
      "0.905\n",
      "0.9045\n",
      "0.8956\n",
      "0.9033\n",
      "0.9054\n",
      "0.9005\n",
      "0.8928\n",
      "0.8974\n",
      "0.9025\n",
      "0.9058\n",
      "0.9057\n",
      "0.9049\n",
      "0.9054\n",
      "0.9021\n",
      "0.9055\n",
      "0.9042\n",
      "0.9046\n",
      "0.9047\n",
      "0.907\n",
      "0.9102\n",
      "0.9083\n",
      "0.9028\n",
      "0.9074\n",
      "0.8988\n",
      "0.9057\n",
      "0.899\n",
      "0.9089\n",
      "0.9107\n",
      "0.9095\n",
      "0.9035\n",
      "0.9037\n",
      "0.907\n",
      "0.8991\n",
      "0.8977\n",
      "0.9085\n",
      "0.9048\n",
      "0.9086\n",
      "0.9076\n",
      "0.9003\n",
      "0.9064\n",
      "0.9078\n",
      "0.9056\n",
      "0.8965\n",
      "0.9055\n",
      "0.9076\n",
      "0.9039\n",
      "0.9033\n",
      "0.9097\n",
      "0.9085\n",
      "0.9057\n",
      "0.9086\n",
      "0.9078\n",
      "0.9053\n",
      "0.9062\n",
      "0.9067\n",
      "0.9089\n",
      "0.9075\n",
      "0.9052\n",
      "0.9087\n",
      "0.9083\n",
      "0.9077\n",
      "0.9037\n",
      "0.9086\n",
      "0.9073\n",
      "0.9066\n",
      "0.908\n",
      "0.9039\n",
      "0.9047\n",
      "0.9081\n",
      "0.9009\n",
      "0.9027\n",
      "0.9024\n",
      "0.91\n",
      "0.9063\n"
     ]
    }
   ],
   "source": [
    "for _ in range(100):\n",
    "  batch_xs, batch_ys = mnist.train.next_batch(100)\n",
    "  sess.run(train_step, feed_dict={x: batch_xs, y_: batch_ys})\n",
    "    \n",
    "  correct_prediction = tf.equal(tf.argmax(y,1), tf.argmax(y_,1))\n",
    "  accuracy = tf.reduce_mean(tf.cast(correct_prediction, tf.float32))\n",
    "  \n",
    "  print(sess.run(accuracy, feed_dict={x: mnist.test.images, y_: mnist.test.labels}))"
   ]
  },
  {
   "cell_type": "code",
   "execution_count": null,
   "metadata": {
    "collapsed": true
   },
   "outputs": [],
   "source": []
  }
 ],
 "metadata": {
  "kernelspec": {
   "display_name": "Python 2",
   "language": "python",
   "name": "python2"
  },
  "language_info": {
   "codemirror_mode": {
    "name": "ipython",
    "version": 2
   },
   "file_extension": ".py",
   "mimetype": "text/x-python",
   "name": "python",
   "nbconvert_exporter": "python",
   "pygments_lexer": "ipython2",
   "version": "2.7.13"
  }
 },
 "nbformat": 4,
 "nbformat_minor": 2
}
