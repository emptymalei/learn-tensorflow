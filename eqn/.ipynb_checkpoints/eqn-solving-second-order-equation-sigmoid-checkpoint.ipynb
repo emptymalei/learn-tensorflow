{
 "cells": [
  {
   "cell_type": "markdown",
   "metadata": {},
   "source": [
    "## Solving Differential Equations"
   ]
  },
  {
   "cell_type": "code",
   "execution_count": 1,
   "metadata": {
    "collapsed": true
   },
   "outputs": [],
   "source": [
    "%matplotlib inline"
   ]
  },
  {
   "cell_type": "code",
   "execution_count": 2,
   "metadata": {
    "collapsed": true
   },
   "outputs": [],
   "source": [
    "import tensorflow as tf\n",
    "import numpy as np\n",
    "import matplotlib.pyplot as plt\n",
    "rng = np.random"
   ]
  },
  {
   "cell_type": "code",
   "execution_count": 3,
   "metadata": {
    "collapsed": true
   },
   "outputs": [],
   "source": [
    "def sigmoid(x):\n",
    "  return 1 / (1 + np.exp(-x))"
   ]
  },
  {
   "cell_type": "code",
   "execution_count": 23,
   "metadata": {
    "collapsed": true
   },
   "outputs": [],
   "source": [
    "# Parameters\n",
    "learning_rate = 0.01\n",
    "training_epochs = 1000\n",
    "display_step = 50"
   ]
  },
  {
   "cell_type": "code",
   "execution_count": 43,
   "metadata": {
    "collapsed": true
   },
   "outputs": [],
   "source": [
    "# Training Data\n",
    "# train_X = np.asarray([3.3,4.4,5.5,6.71,6.93,4.168,9.779,6.182,7.59,2.167,\n",
    "#                          7.042,10.791,5.313,7.997,5.654,9.27,3.1])\n",
    "train_X = np.asarray(range(10))\n",
    "train_Y = np.asarray(train_X**2)\n",
    "n_samples = train_X.shape[0]"
   ]
  },
  {
   "cell_type": "code",
   "execution_count": 44,
   "metadata": {},
   "outputs": [
    {
     "data": {
      "text/plain": [
       "10"
      ]
     },
     "execution_count": 44,
     "metadata": {},
     "output_type": "execute_result"
    }
   ],
   "source": [
    "n_samples"
   ]
  },
  {
   "cell_type": "code",
   "execution_count": 26,
   "metadata": {
    "collapsed": true
   },
   "outputs": [],
   "source": [
    "# tf Graph Input\n",
    "X = tf.placeholder(\"float\")\n",
    "Y = tf.placeholder(\"float\")\n",
    "\n",
    "# Set model weights\n",
    "W = tf.Variable(rng.randn(), name=\"weight\")\n",
    "b = tf.Variable(rng.randn(), name=\"bias\")\n",
    "v = tf.Variable(rng.randn(), name=\"scale\")"
   ]
  },
  {
   "cell_type": "code",
   "execution_count": 46,
   "metadata": {
    "collapsed": true
   },
   "outputs": [],
   "source": [
    "# Construct a linear model\n",
    "pred = tf.multiply(  tf.nn.sigmoid( tf.add(tf.multiply( X, W), b) ) , v )\n",
    "# pred = tf.add(tf.multiply(tf.square(X), W), b)"
   ]
  },
  {
   "cell_type": "code",
   "execution_count": 47,
   "metadata": {
    "collapsed": true
   },
   "outputs": [],
   "source": [
    "# Mean squared error\n",
    "cost = tf.reduce_sum(tf.pow(pred-Y, 2))/(2*n_samples)\n",
    "# Gradient descent\n",
    "optimizer = tf.train.GradientDescentOptimizer(learning_rate).minimize(cost)"
   ]
  },
  {
   "cell_type": "code",
   "execution_count": 48,
   "metadata": {
    "collapsed": true
   },
   "outputs": [],
   "source": [
    "# Initializing the variables\n",
    "init = tf.global_variables_initializer()"
   ]
  },
  {
   "cell_type": "code",
   "execution_count": 50,
   "metadata": {},
   "outputs": [
    {
     "name": "stdout",
     "output_type": "stream",
     "text": [
      "Epoch: 0050 cost= 766.861328125 W= -1.264 b= 1.00868 v= -0.851856\n",
      "Epoch: 0100 cost= 766.774230957 W= -1.42164 b= 0.942842 v= -0.737026\n",
      "Epoch: 0150 cost= 766.737854004 W= -1.5146 b= 0.899721 v= -0.650536\n",
      "Epoch: 0200 cost= 766.716979980 W= -1.57942 b= 0.867828 v= -0.578541\n",
      "Epoch: 0250 cost= 766.703002930 W= -1.62819 b= 0.842914 v= -0.515798\n",
      "Epoch: 0300 cost= 766.692993164 W= -1.66645 b= 0.82286 v= -0.459639\n",
      "Epoch: 0350 cost= 766.685302734 W= -1.69727 b= 0.806435 v= -0.408473\n",
      "Epoch: 0400 cost= 766.679199219 W= -1.72248 b= 0.792847 v= -0.361264\n",
      "Epoch: 0450 cost= 766.674194336 W= -1.7433 b= 0.781554 v= -0.317286\n",
      "Epoch: 0500 cost= 766.670043945 W= -1.76053 b= 0.772168 v= -0.276005\n",
      "Epoch: 0550 cost= 766.666503906 W= -1.77478 b= 0.764404 v= -0.237016\n",
      "Epoch: 0600 cost= 766.663391113 W= -1.78648 b= 0.75804 v= -0.199996\n",
      "Epoch: 0650 cost= 766.660644531 W= -1.79595 b= 0.752904 v= -0.164686\n",
      "Epoch: 0700 cost= 766.658203125 W= -1.80343 b= 0.74886 v= -0.130872\n",
      "Epoch: 0750 cost= 766.656005859 W= -1.80913 b= 0.745802 v= -0.0983709\n",
      "Epoch: 0800 cost= 766.653991699 W= -1.81318 b= 0.743644 v= -0.0670275\n",
      "Epoch: 0850 cost= 766.652160645 W= -1.81569 b= 0.742316 v= -0.036704\n",
      "Epoch: 0900 cost= 766.650451660 W= -1.81674 b= 0.741761 v= -0.00727816\n",
      "Epoch: 0950 cost= 766.648803711 W= -1.8164 b= 0.741935 v= 0.0213614\n",
      "Epoch: 1000 cost= 766.647155762 W= -1.8147 b= 0.742806 v= 0.0493178\n",
      "Optimization Finished!\n",
      "Training cost= 766.647 W= -1.8147 b= 0.742806 v= 0.0493178 \n",
      "\n",
      "[  0.7428059   -1.07189387  -2.88659364  -4.70129341  -6.51599318\n",
      "  -8.33069295 -10.14539272 -11.96009248 -13.77479225 -15.58949202]\n",
      "[  3.34182162e-02   1.25781734e-02   2.60498196e-03   4.43946994e-04\n",
      "   7.28621591e-05   1.18829806e-05   1.93597122e-06   3.15354529e-07\n",
      "   5.13673665e-08   8.36707350e-09]\n"
     ]
    },
    {
     "data": {
      "image/png": "[encoded data removed]",
      "text/plain": [
       "<matplotlib.figure.Figure at 0x1089396a0>"
      ]
     },
     "metadata": {},
     "output_type": "display_data"
    }
   ],
   "source": [
    "# Launch the graph\n",
    "with tf.Session() as sess:\n",
    "    sess.run(init)\n",
    "    \n",
    "\n",
    "    # Fit all training data\n",
    "    for epoch in range(training_epochs):\n",
    "        for (x, y) in zip(train_X, train_Y):\n",
    "            sess.run(optimizer, feed_dict={X: x, Y: y})\n",
    "\n",
    "        #Display logs per epoch step\n",
    "        if (epoch+1) % display_step == 0:\n",
    "            c = sess.run(cost, feed_dict={X: train_X, Y:train_Y})\n",
    "            print(\"Epoch:\", '%04d' % (epoch+1), \"cost=\", \"{:.9f}\".format(c), \\\n",
    "                \"W=\", sess.run(W), \"b=\", sess.run(b), \"v=\", sess.run(v)\\\n",
    "                 )\n",
    "\n",
    "    print(\"Optimization Finished!\")\n",
    "    training_cost = sess.run(cost, feed_dict={X: train_X, Y: train_Y})\n",
    "    print(\"Training cost=\", training_cost, \"W=\", sess.run(W), \"b=\", sess.run(b),\"v=\", sess.run(v), '\\n')\n",
    "\n",
    "    #Graphic display\n",
    "    plt.plot(train_X, train_Y, 'ro', label='Original data')\n",
    "    print( sess.run(W) * train_X + sess.run(b) )\n",
    "    print( sigmoid( sess.run(W) * train_X + sess.run(b) )*sess.run(v) )\n",
    "    plt.plot(train_X, sigmoid( sess.run(W) * train_X + sess.run(b) )*sess.run(v), 'b-', label='Fitted line')\n",
    "    plt.legend()\n",
    "    plt.show()\n"
   ]
  },
  {
   "cell_type": "code",
   "execution_count": 36,
   "metadata": {},
   "outputs": [
    {
     "data": {
      "text/plain": [
       "<zip at 0x1089b2cc8>"
      ]
     },
     "execution_count": 36,
     "metadata": {},
     "output_type": "execute_result"
    }
   ],
   "source": [
    "zip(np.array([1,2,3,4,5]),np.array([1,2,3,4,5]) )"
   ]
  },
  {
   "cell_type": "code",
   "execution_count": 45,
   "metadata": {},
   "outputs": [
    {
     "name": "stdout",
     "output_type": "stream",
     "text": [
      "0 0\n",
      "1 1\n",
      "2 4\n",
      "3 9\n",
      "4 16\n",
      "5 25\n",
      "6 36\n",
      "7 49\n",
      "8 64\n",
      "9 81\n"
     ]
    }
   ],
   "source": [
    "for (x, y) in zip(train_X, train_Y):\n",
    "    print( x,y )"
   ]
  },
  {
   "cell_type": "code",
   "execution_count": null,
   "metadata": {
    "collapsed": true
   },
   "outputs": [],
   "source": []
  }
 ],
 "metadata": {
  "kernelspec": {
   "display_name": "Python 3",
   "language": "python",
   "name": "python3"
  },
  "language_info": {
   "codemirror_mode": {
    "name": "ipython",
    "version": 3
   },
   "file_extension": ".py",
   "mimetype": "text/x-python",
   "name": "python",
   "nbconvert_exporter": "python",
   "pygments_lexer": "ipython3",
   "version": "3.6.1"
  }
 },
 "nbformat": 4,
 "nbformat_minor": 1
}
