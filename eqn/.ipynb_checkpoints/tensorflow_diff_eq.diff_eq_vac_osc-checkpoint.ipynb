{
 "cells": [
  {
   "cell_type": "code",
   "execution_count": 25,
   "metadata": {},
   "outputs": [],
   "source": [
    "import tensorflow_diff_eq.diff_eq as diff_eq\n",
    "import tensorflow as tf\n",
    "import numpy as np\n",
    "import matplotlib as mpl\n",
    "from mpl_toolkits.mplot3d import Axes3D\n",
    "import numpy as np\n",
    "import matplotlib.pyplot as plt\n",
    "import tqdm\n"
   ]
  },
  {
   "cell_type": "code",
   "execution_count": 4,
   "metadata": {
    "collapsed": true
   },
   "outputs": [],
   "source": [
    "eq = diff_eq.DifferentialEquation()\n",
    "\n",
    "# Define the quantities,\n",
    "(psi,) = eq.generate_quantities(1)\n",
    "# and the parameters\n",
    "s2t = 0.92;\n",
    "c2t = np.sqrt(1 - s2t**2);"
   ]
  },
  {
   "cell_type": "code",
   "execution_count": 6,
   "metadata": {},
   "outputs": [],
   "source": [
    "# The Lorenz equations\n",
    "eq.define_quantity(psi, np.array([1.0, 0.0, 0.0, 0.0]), 0, 1)(tf.stack([ (- c2t * psi.d(0)[2] + s2t * psi.d(0)[3])/2,\n",
    "                                                                        (s2t * psi.d(0)[2] + c2t * psi.d(0)[3] )/2,\n",
    "                                                                        ( c2t * psi.d(0)[0] - s2t * psi.d(0)[1] )/2   ,\n",
    "                                                                        ( - s2t * psi.d(0)[0] - c2t * psi.d(0)[1] )/2 ]))\n"
   ]
  },
  {
   "cell_type": "code",
   "execution_count": 85,
   "metadata": {
    "collapsed": true
   },
   "outputs": [],
   "source": [
    "step_size = 0.005\n",
    "num_runs = 2000\n",
    "x_incre = 0.1"
   ]
  },
  {
   "cell_type": "code",
   "execution_count": 86,
   "metadata": {},
   "outputs": [
    {
     "name": "stderr",
     "output_type": "stream",
     "text": [
      "100%|██████████| 2000/2000 [00:02<00:00, 729.53it/s]\n"
     ]
    }
   ],
   "source": [
    "\n",
    "# Start tensorflow\n",
    "sess = tf.Session()\n",
    "sess.run(tf.global_variables_initializer())\n",
    "simulate_op = eq.generate_simulate_operation(step_size)\n",
    "\n",
    "p1rs = np.zeros(num_runs)\n",
    "p2rs = np.zeros(num_runs)\n",
    "p1is = np.zeros(num_runs)\n",
    "p2is = np.zeros(num_runs)\n",
    "xs = np.zeros(num_runs)\n",
    "\n",
    "(p1r,p2r,p1i,p2i) = (psi.d(0)[0],psi.d(0)[1],psi.d(0)[2],psi.d(0)[3])\n",
    "for i in tqdm.tqdm(range(num_runs)):\n",
    "    p1rs[i] = sess.run(p1r)\n",
    "    p2rs[i] = sess.run(p2r)\n",
    "    p1is[i] = sess.run(p1i)\n",
    "    p2is[i] = sess.run(p2i)\n",
    "    if i < num_runs - 1:\n",
    "        sess.run(simulate_op)\n",
    "        sess.run(simulate_op)\n",
    "        xs[i+1] = xs[i] + x_incre\n",
    "\n",
    "np.save(\"vac_osc_tensorflow.txt\", [p1rs, p2rs, p1is, p2is])"
   ]
  },
  {
   "cell_type": "code",
   "execution_count": 87,
   "metadata": {},
   "outputs": [
    {
     "data": {
      "text/plain": [
       "array([ 1.        ,  0.99999375,  0.9999625 , ..., -0.85778789,\n",
       "       -0.85509238, -0.85237546])"
      ]
     },
     "execution_count": 87,
     "metadata": {},
     "output_type": "execute_result"
    }
   ],
   "source": [
    "p1rs"
   ]
  },
  {
   "cell_type": "code",
   "execution_count": 88,
   "metadata": {},
   "outputs": [
    {
     "name": "stdout",
     "output_type": "stream",
     "text": [
      "[  0.00000000e+00   5.00000000e-02   1.00000000e-01 ...,   9.98500000e+01\n",
      "   9.99000000e+01   9.99500000e+01]\n"
     ]
    },
    {
     "data": {
      "image/png": "[encoded data removed]",
      "text/plain": [
       "<matplotlib.figure.Figure at 0x111827748>"
      ]
     },
     "metadata": {},
     "output_type": "display_data"
    }
   ],
   "source": [
    "x_data = np.asarray(range(num_runs))*step_size/x_incre\n",
    "print(x_data)\n",
    "\n",
    "plt.plot( x_data, 1 - (s2t**2) * np.sin( x_data/2/5 )**2 , 'b-')\n",
    "plt.plot( x_data[::20], (p1rs**2 + p1is**2)[::20], 'r+' )\n",
    "plt.show()"
   ]
  },
  {
   "cell_type": "code",
   "execution_count": null,
   "metadata": {
    "collapsed": true
   },
   "outputs": [],
   "source": []
  }
 ],
 "metadata": {
  "kernelspec": {
   "display_name": "Python 3",
   "language": "python",
   "name": "python3"
  },
  "language_info": {
   "codemirror_mode": {
    "name": "ipython",
    "version": 3
   },
   "file_extension": ".py",
   "mimetype": "text/x-python",
   "name": "python",
   "nbconvert_exporter": "python",
   "pygments_lexer": "ipython3",
   "version": "3.6.1"
  }
 },
 "nbformat": 4,
 "nbformat_minor": 2
}
