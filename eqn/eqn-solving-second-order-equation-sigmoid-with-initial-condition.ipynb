{
 "cells": [
  {
   "cell_type": "markdown",
   "metadata": {},
   "source": [
    "## Solving Differential Equations"
   ]
  },
  {
   "cell_type": "code",
   "execution_count": 1,
   "metadata": {
    "collapsed": true
   },
   "outputs": [],
   "source": [
    "%matplotlib inline"
   ]
  },
  {
   "cell_type": "code",
   "execution_count": 2,
   "metadata": {
    "collapsed": true
   },
   "outputs": [],
   "source": [
    "import tensorflow as tf\n",
    "import numpy as np\n",
    "import matplotlib.pyplot as plt\n",
    "rng = np.random"
   ]
  },
  {
   "cell_type": "code",
   "execution_count": 3,
   "metadata": {
    "collapsed": true
   },
   "outputs": [],
   "source": [
    "def sigmoid(x):\n",
    "  return 1 / (1 + np.exp(-x))"
   ]
  },
  {
   "cell_type": "code",
   "execution_count": 25,
   "metadata": {
    "collapsed": true
   },
   "outputs": [],
   "source": [
    "# Parameters\n",
    "learning_rate = 0.01\n",
    "training_epochs = 1000\n",
    "display_step = 50\n",
    "num_neurons = 10"
   ]
  },
  {
   "cell_type": "code",
   "execution_count": 26,
   "metadata": {
    "collapsed": true
   },
   "outputs": [],
   "source": [
    "# Training Data\n",
    "# train_X = np.asarray([3.3,4.4,5.5,6.71,6.93,4.168,9.779,6.182,7.59,2.167,\n",
    "#                          7.042,10.791,5.313,7.997,5.654,9.27,3.1])\n",
    "train_X = np.asarray(range(10))\n",
    "num_points  = train_X.shape[0]"
   ]
  },
  {
   "cell_type": "code",
   "execution_count": 27,
   "metadata": {},
   "outputs": [
    {
     "name": "stdout",
     "output_type": "stream",
     "text": [
      "[0 1 2 3 4 5 6 7 8 9] 10\n"
     ]
    }
   ],
   "source": [
    "print(train_X, num_points )"
   ]
  },
  {
   "cell_type": "code",
   "execution_count": 28,
   "metadata": {},
   "outputs": [
    {
     "data": {
      "text/plain": [
       "array([-0.24997802, -1.08358988,  0.3742617 ,  0.15604158, -1.05727945,\n",
       "        0.89324029, -0.33721135, -0.47155053, -0.15089272,  0.68079832])"
      ]
     },
     "execution_count": 28,
     "metadata": {},
     "output_type": "execute_result"
    }
   ],
   "source": [
    "rng.randn(10)"
   ]
  },
  {
   "cell_type": "code",
   "execution_count": 29,
   "metadata": {
    "collapsed": true
   },
   "outputs": [],
   "source": [
    "# tf Graph Input\n",
    "X = tf.placeholder(\"float\", shape=(num_points))\n",
    "S = tf.placeholder(\"float\", shape=([num_neurons,num_points]) )\n",
    "S1_S = tf.placeholder(\"float\", shape=([num_neurons,num_points]) )\n",
    "VW = tf.placeholder(\"float\", shape=([num_neurons,num_points]) )\n",
    "Y = tf.placeholder(\"float\", shape=(num_points))\n",
    "dYdX = tf.placeholder(\"float\", shape=(num_points))\n",
    "\n",
    "# Set model weights\n",
    "# W = tf.Variable(rng.randn(num_neurons), name=\"weight\", dtype=tf.float32)\n",
    "# U = tf.Variable(rng.randn(num_neurons), name=\"bias\", dtype=tf.float32)\n",
    "# V = tf.Variable(rng.randn(num_neurons), name=\"scale\", dtype=tf.float32)\n",
    "\n",
    "W = tf.Variable(np.arange(num_neurons), name=\"weight\", dtype=tf.float32)\n",
    "U = tf.Variable(np.arange(num_neurons), name=\"bias\", dtype=tf.float32)\n",
    "V = tf.Variable(np.arange(num_neurons), name=\"scale\", dtype=tf.float32)"
   ]
  },
  {
   "cell_type": "markdown",
   "metadata": {},
   "source": [
    "Define some convinient variables/placeholders, to simplify the cost expression"
   ]
  },
  {
   "cell_type": "code",
   "execution_count": 30,
   "metadata": {},
   "outputs": [],
   "source": [
    "# S = tf.reshape( tf.multiply( tf.reshape(W , [1,num_neurons]),  tf.reshape(X, [num_points,1]) ), [num_points*num_neurons] )\n",
    "S = tf.nn.sigmoid( tf.multiply( tf.reshape(W , [1,num_neurons]),  tf.reshape(X, [num_points,1]) ) )  \n",
    "S1_S = tf.multiply(S , (1-S)) \n",
    "VW = tf.multiply(V,W)\n",
    "VW_cast = tf.reshape( tf.tile( VW , [num_points] ) , [num_points, num_neurons] )\n",
    "V_cast =  tf.reshape( tf.tile( V , [num_points] ) , [num_points, num_neurons] )\n",
    "Y = 1 + tf.multiply( X, tf.matmul( S, tf.transpose( V_cast ) )[:,0] )\n",
    "dYdX =  tf.multiply(X , tf.matmul( S1_S, tf.transpose(VW_cast) ) [:,0] ) + tf.matmul( S, tf.transpose( V_cast ) )[:,0]"
   ]
  },
  {
   "cell_type": "markdown",
   "metadata": {},
   "source": [
    "To parametrize unknow function y\n",
    "\n",
    "$$\n",
    "y_j = 1 + \\sum_i V_i S(W_i X_j + U_i)\n",
    "$$\n",
    "\n",
    "I can also calculate $dy/dx$\n",
    "\n",
    "$$\n",
    "(dy/dx)_i =  \\sum_i X_j V_i W_i S(W_i X_j + U_i) ( 1- S(W_i X_j + U_i) ) + \\sum_i V_i S(W_i X_j + U_i)\n",
    "$$\n",
    "\n",
    "The result I want to get is $dy/dx + y$, which becomes\n",
    "\n",
    "$$\n",
    "(dy/dx + y)_i = \\sum_i V_i W_i S(W_i X_j + U_i) ( 1- S(W_i X_j + U_i) )  + 1+  \\sum_i V_i S(W_i X_j + U_i)\n",
    "$$\n",
    "\n",
    "To achieve this, I have to understand the broadcasting in tensorflow."
   ]
  },
  {
   "cell_type": "code",
   "execution_count": 31,
   "metadata": {
    "scrolled": true
   },
   "outputs": [
    {
     "name": "stdout",
     "output_type": "stream",
     "text": [
      "S =  [[ 0.5         0.5         0.5         0.5         0.5         0.5         0.5\n",
      "   0.5         0.5         0.5       ]\n",
      " [ 0.5         0.7310586   0.88079703  0.95257413  0.98201376  0.99330717\n",
      "   0.99752742  0.999089    0.99966466  0.99987662]\n",
      " [ 0.5         0.88079703  0.98201376  0.99752742  0.99966466  0.99995458\n",
      "   0.9999938   0.99999917  0.99999988  1.        ]\n",
      " [ 0.5         0.95257413  0.99752742  0.99987662  0.9999938   0.99999964\n",
      "   1.          1.          1.          1.        ]\n",
      " [ 0.5         0.98201376  0.99966466  0.9999938   0.99999988  1.          1.\n",
      "   1.          1.          1.        ]\n",
      " [ 0.5         0.99330717  0.99995458  0.99999964  1.          1.          1.\n",
      "   1.          1.          1.        ]\n",
      " [ 0.5         0.99752742  0.9999938   1.          1.          1.          1.\n",
      "   1.          1.          1.        ]\n",
      " [ 0.5         0.999089    0.99999917  1.          1.          1.          1.\n",
      "   1.          1.          1.        ]\n",
      " [ 0.5         0.99966466  0.99999988  1.          1.          1.          1.\n",
      "   1.          1.          1.        ]\n",
      " [ 0.5         0.99987662  1.          1.          1.          1.          1.\n",
      "   1.          1.          1.        ]] \n",
      "\n",
      "\n",
      "S1_S =  [[  2.50000000e-01   2.50000000e-01   2.50000000e-01   2.50000000e-01\n",
      "    2.50000000e-01   2.50000000e-01   2.50000000e-01   2.50000000e-01\n",
      "    2.50000000e-01   2.50000000e-01]\n",
      " [  2.50000000e-01   1.96611926e-01   1.04993626e-01   4.51766551e-02\n",
      "    1.76627338e-02   6.64803293e-03   2.46646581e-03   9.10167466e-04\n",
      "    3.35223274e-04   1.23366393e-04]\n",
      " [  2.50000000e-01   1.04993626e-01   1.76627338e-02   2.46646581e-03\n",
      "    3.35223274e-04   4.54166766e-05   6.19884486e-06   8.34464345e-07\n",
      "    1.19209275e-07   0.00000000e+00]\n",
      " [  2.50000000e-01   4.51766551e-02   2.46646581e-03   1.23366393e-04\n",
      "    6.19884486e-06   3.57627755e-07   0.00000000e+00   0.00000000e+00\n",
      "    0.00000000e+00   0.00000000e+00]\n",
      " [  2.50000000e-01   1.76627338e-02   3.35223274e-04   6.19884486e-06\n",
      "    1.19209275e-07   0.00000000e+00   0.00000000e+00   0.00000000e+00\n",
      "    0.00000000e+00   0.00000000e+00]\n",
      " [  2.50000000e-01   6.64803293e-03   4.54166766e-05   3.57627755e-07\n",
      "    0.00000000e+00   0.00000000e+00   0.00000000e+00   0.00000000e+00\n",
      "    0.00000000e+00   0.00000000e+00]\n",
      " [  2.50000000e-01   2.46646581e-03   6.19884486e-06   0.00000000e+00\n",
      "    0.00000000e+00   0.00000000e+00   0.00000000e+00   0.00000000e+00\n",
      "    0.00000000e+00   0.00000000e+00]\n",
      " [  2.50000000e-01   9.10167466e-04   8.34464345e-07   0.00000000e+00\n",
      "    0.00000000e+00   0.00000000e+00   0.00000000e+00   0.00000000e+00\n",
      "    0.00000000e+00   0.00000000e+00]\n",
      " [  2.50000000e-01   3.35223274e-04   1.19209275e-07   0.00000000e+00\n",
      "    0.00000000e+00   0.00000000e+00   0.00000000e+00   0.00000000e+00\n",
      "    0.00000000e+00   0.00000000e+00]\n",
      " [  2.50000000e-01   1.23366393e-04   0.00000000e+00   0.00000000e+00\n",
      "    0.00000000e+00   0.00000000e+00   0.00000000e+00   0.00000000e+00\n",
      "    0.00000000e+00   0.00000000e+00]] \n",
      "\n",
      "\n",
      "VW =  [  0.   1.   4.   9.  16.  25.  36.  49.  64.  81.] \n",
      "\n",
      "\n",
      "VW_cast =  [[  0.   1.   4.   9.  16.  25.  36.  49.  64.  81.]\n",
      " [  0.   1.   4.   9.  16.  25.  36.  49.  64.  81.]\n",
      " [  0.   1.   4.   9.  16.  25.  36.  49.  64.  81.]\n",
      " [  0.   1.   4.   9.  16.  25.  36.  49.  64.  81.]\n",
      " [  0.   1.   4.   9.  16.  25.  36.  49.  64.  81.]\n",
      " [  0.   1.   4.   9.  16.  25.  36.  49.  64.  81.]\n",
      " [  0.   1.   4.   9.  16.  25.  36.  49.  64.  81.]\n",
      " [  0.   1.   4.   9.  16.  25.  36.  49.  64.  81.]\n",
      " [  0.   1.   4.   9.  16.  25.  36.  49.  64.  81.]\n",
      " [  0.   1.   4.   9.  16.  25.  36.  49.  64.  81.]] \n",
      "\n",
      "\n",
      "V_cast =  [[ 0.  1.  2.  3.  4.  5.  6.  7.  8.  9.]\n",
      " [ 0.  1.  2.  3.  4.  5.  6.  7.  8.  9.]\n",
      " [ 0.  1.  2.  3.  4.  5.  6.  7.  8.  9.]\n",
      " [ 0.  1.  2.  3.  4.  5.  6.  7.  8.  9.]\n",
      " [ 0.  1.  2.  3.  4.  5.  6.  7.  8.  9.]\n",
      " [ 0.  1.  2.  3.  4.  5.  6.  7.  8.  9.]\n",
      " [ 0.  1.  2.  3.  4.  5.  6.  7.  8.  9.]\n",
      " [ 0.  1.  2.  3.  4.  5.  6.  7.  8.  9.]\n",
      " [ 0.  1.  2.  3.  4.  5.  6.  7.  8.  9.]\n",
      " [ 0.  1.  2.  3.  4.  5.  6.  7.  8.  9.]] \n",
      "\n",
      "\n",
      "S1_S. VW_cast =  [[  7.12500000e+01   7.12500000e+01   7.12500000e+01   7.12500000e+01\n",
      "    7.12500000e+01   7.12500000e+01   7.12500000e+01   7.12500000e+01\n",
      "    7.12500000e+01   7.12500000e+01]\n",
      " [  1.63681889e+00   1.63681889e+00   1.63681889e+00   1.63681889e+00\n",
      "    1.63681889e+00   1.63681889e+00   1.63681889e+00   1.63681889e+00\n",
      "    1.63681889e+00   1.63681889e+00]\n",
      " [  2.04613417e-01   2.04613417e-01   2.04613417e-01   2.04613417e-01\n",
      "    2.04613417e-01   2.04613417e-01   2.04613417e-01   2.04613417e-01\n",
      "    2.04613417e-01   2.04613417e-01]\n",
      " [  5.62609397e-02   5.62609397e-02   5.62609397e-02   5.62609397e-02\n",
      "    5.62609397e-02   5.62609397e-02   5.62609397e-02   5.62609397e-02\n",
      "    5.62609397e-02   5.62609397e-02]\n",
      " [  1.90613233e-02   1.90613233e-02   1.90613233e-02   1.90613233e-02\n",
      "    1.90613233e-02   1.90613233e-02   1.90613233e-02   1.90613233e-02\n",
      "    1.90613233e-02   1.90613233e-02]\n",
      " [  6.83291815e-03   6.83291815e-03   6.83291815e-03   6.83291815e-03\n",
      "    6.83291815e-03   6.83291815e-03   6.83291815e-03   6.83291815e-03\n",
      "    6.83291815e-03   6.83291815e-03]\n",
      " [  2.49126111e-03   2.49126111e-03   2.49126111e-03   2.49126111e-03\n",
      "    2.49126111e-03   2.49126111e-03   2.49126111e-03   2.49126111e-03\n",
      "    2.49126111e-03   2.49126111e-03]\n",
      " [  9.13505326e-04   9.13505326e-04   9.13505326e-04   9.13505326e-04\n",
      "    9.13505326e-04   9.13505326e-04   9.13505326e-04   9.13505326e-04\n",
      "    9.13505326e-04   9.13505326e-04]\n",
      " [  3.35700111e-04   3.35700111e-04   3.35700111e-04   3.35700111e-04\n",
      "    3.35700111e-04   3.35700111e-04   3.35700111e-04   3.35700111e-04\n",
      "    3.35700111e-04   3.35700111e-04]\n",
      " [  1.23366393e-04   1.23366393e-04   1.23366393e-04   1.23366393e-04\n",
      "    1.23366393e-04   1.23366393e-04   1.23366393e-04   1.23366393e-04\n",
      "    1.23366393e-04   1.23366393e-04]] \n",
      "\n",
      "\n",
      "sliced  [  7.12500000e+01   1.63681889e+00   2.04613417e-01   5.62609397e-02\n",
      "   1.90613233e-02   6.83291815e-03   2.49126111e-03   9.13505326e-04\n",
      "   3.35700111e-04   1.23366393e-04] \n",
      "\n",
      "\n",
      "dYdX =  [ 22.5         45.85678101  45.24501801  45.11601257  45.0575676\n",
      "  45.0273819   45.0124588   45.00548172  45.00234985  45.00098801] \n",
      "\n",
      "\n",
      "Y =  [   1.           45.21996307   90.67158508  135.84169006  180.92529297\n",
      "  225.96609497  270.9850769   315.99362183  360.99731445  405.99890137]\n"
     ]
    }
   ],
   "source": [
    "init_test = tf.global_variables_initializer()\n",
    "\n",
    "with tf.Session() as sess_test:\n",
    "    \n",
    "    sess_test.run(init_test)\n",
    "    \n",
    "    print( \"S = \", sess_test.run(S, feed_dict={X:train_X} ) , '\\n\\n')\n",
    "    print( \"S1_S = \", sess_test.run( S1_S  , feed_dict={X:train_X} ) ,'\\n\\n')\n",
    "    print( \"VW = \", sess_test.run( VW  , feed_dict={X:train_X} ) ,'\\n\\n')\n",
    "    print( \"VW_cast = \", sess_test.run( VW_cast  , feed_dict={X:train_X} ) ,'\\n\\n')\n",
    "    print(\"V_cast = \", sess_test.run( V_cast  , feed_dict={X:train_X} ) ,'\\n\\n')\n",
    "    print( \"S1_S. VW_cast = \", sess_test.run( tf.matmul( S1_S, tf.transpose(VW_cast) )  , feed_dict={X:train_X} ) , '\\n\\n')\n",
    "    print( \"sliced \", sess_test.run(  tf.matmul( S1_S, tf.transpose(VW_cast) ) [:,0]   , feed_dict={X:train_X} ) , '\\n\\n') # Access the first column of the tensorl\n",
    "    print( \"dYdX = \",  sess_test.run( dYdX, feed_dict={X:train_X}  ) , '\\n\\n')\n",
    "    print( \"Y = \",  sess_test.run( Y, feed_dict={X:train_X}  ) )"
   ]
  },
  {
   "cell_type": "code",
   "execution_count": 32,
   "metadata": {
    "collapsed": true
   },
   "outputs": [],
   "source": [
    "# Construct a linear model\n",
    "# pred = tf.add(tf.multiply(tf.square(X), W), b)\n",
    "# pred = tf.multiply(  tf.nn.sigmoid( tf.add(tf.multiply( X, W), b) ) , v )\n",
    "\n",
    "pred =  dYdX + Y"
   ]
  },
  {
   "cell_type": "code",
   "execution_count": 33,
   "metadata": {},
   "outputs": [],
   "source": [
    "# Mean squared error\n",
    "cost = tf.reduce_sum(tf.pow(pred , 2))/( 2 * num_points )\n",
    "# Gradient descent\n",
    "optimizer = tf.train.GradientDescentOptimizer(learning_rate).minimize(cost)"
   ]
  },
  {
   "cell_type": "code",
   "execution_count": 34,
   "metadata": {
    "collapsed": true
   },
   "outputs": [],
   "source": [
    "# Initializing the variables\n",
    "init = tf.global_variables_initializer()"
   ]
  },
  {
   "cell_type": "code",
   "execution_count": 35,
   "metadata": {
    "scrolled": true
   },
   "outputs": [
    {
     "name": "stdout",
     "output_type": "stream",
     "text": [
      "Optimization Finished!\n",
      "Training cost =  254535.0 \n",
      " W= [ 0.          0.75768089  1.97467053  3.00136638  4.00706339  5.00623226\n",
      "  6.00408459  7.00232935  8.00122261  9.00060654] \n",
      " U= [ 0.  1.  2.  3.  4.  5.  6.  7.  8.  9.] \n",
      " V= [ -8.67854023 -16.27683258 -15.34618759 -14.3501606  -13.34872627\n",
      " -12.34718132 -11.34623528 -10.34574699  -9.3455143   -8.34540939] \n",
      "\n",
      "\n",
      "[  1.00000000e+00  -1.06284241e+02  -2.23257080e+02  -3.40485657e+02\n",
      "  -4.57543274e+02  -5.74151306e+02  -6.90321777e+02  -8.06174988e+02\n",
      "  -9.21827271e+02  -1.03736157e+03]\n"
     ]
    },
    {
     "data": {
      "image/png": "[encoded data removed]",
      "text/plain": [
       "<matplotlib.figure.Figure at 0x102781550>"
      ]
     },
     "metadata": {},
     "output_type": "display_data"
    }
   ],
   "source": [
    "with tf.Session() as sess:\n",
    "    \n",
    "    sess.run(init)\n",
    "    \n",
    "    sess.run(optimizer, feed_dict = {X: train_X})\n",
    "\n",
    "\n",
    "    print(\"Optimization Finished!\")\n",
    "    training_cost = sess.run(cost, feed_dict={X: train_X})\n",
    "    print(\"Training cost = \", training_cost, \"\\n W=\", sess.run(W), \"\\n U=\", sess.run(U),\"\\n V=\", sess.run(V), '\\n\\n')\n",
    "    \n",
    "    print( sess.run(Y, feed_dict={X:train_X}) )\n",
    "    \n",
    "    plt.plot(train_X, np.exp(-train_X), 'r-', label = 'True Solution' )\n",
    "    \n",
    "    plt.plot(train_X, sess.run(Y, feed_dict={X:train_X}), 'b+', label='Network Simulated Data')\n",
    "    \n",
    "    plt.legend()\n",
    "    plt.show()"
   ]
  },
  {
   "cell_type": "code",
   "execution_count": null,
   "metadata": {
    "collapsed": true
   },
   "outputs": [],
   "source": []
  },
  {
   "cell_type": "code",
   "execution_count": null,
   "metadata": {
    "collapsed": true
   },
   "outputs": [],
   "source": []
  },
  {
   "cell_type": "code",
   "execution_count": null,
   "metadata": {
    "collapsed": true
   },
   "outputs": [],
   "source": []
  }
 ],
 "metadata": {
  "kernelspec": {
   "display_name": "Python 3",
   "language": "python",
   "name": "python3"
  },
  "language_info": {
   "codemirror_mode": {
    "name": "ipython",
    "version": 3
   },
   "file_extension": ".py",
   "mimetype": "text/x-python",
   "name": "python",
   "nbconvert_exporter": "python",
   "pygments_lexer": "ipython3",
   "version": "3.6.1"
  }
 },
 "nbformat": 4,
 "nbformat_minor": 1
}
